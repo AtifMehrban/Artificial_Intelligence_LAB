{
 "cells": [
  {
   "cell_type": "code",
   "execution_count": 1,
   "metadata": {},
   "outputs": [],
   "source": [
    "import pandas as pd\n",
    "import numpy as np\n",
    "from sklearn.metrics import confusion_matrix\n",
    "from sklearn.metrics import accuracy_score"
   ]
  },
  {
   "cell_type": "code",
   "execution_count": null,
   "metadata": {},
   "outputs": [],
   "source": [
    "df = pd.read_csv('Summary_of_Weather.txt',delimiter='\\t')\n",
    "df\n",
    "df1=df[['Station Number','Date','Percipitation','MaxTemp','MeanTemp' ,'Snowfall']]\n",
    "\n",
    "df=pd.read_csv('Summary_of_weather.txt', delimiter='\\t')\n",
    "df.drop([\"Station Number\",\"MeanTemp\"],axis=1,inplace=True)\n",
    "\n",
    "X = df[[\"MaxTemp\",\"MinTemp\",\"MeanTemp\"]]\n",
    "\n",
    "Y = df[\"Summary_of_Weather\"]\n",
    "\n",
    "trainX = np.array(X[:50])\n",
    "trainY = np.array(Y[:50])\n",
    "testX = np.array(X[50:])\n",
    "testY = np.array(Y[50:])\n",
    "\n",
    "\n",
    "class K_Means:\n",
    "    def __init__(self,k = 3):\n",
    "        self.k = k\n",
    "        \n",
    "    def euclidian_distance(self,query,X):\n",
    "        difference = np.array(X) - np.array(query)\n",
    "        sqrt_dif= np.square(difference)\n",
    "        sum_sqrt_dif= np.sum(sqrt_dif, axis = 1)\n",
    "        distance = np.sqrt(sum_sqrt_dif)\n",
    "        return distance\n",
    "    \n",
    "    def nearest_neighbours(self,distance):\n",
    "        return np.argsort(distance)[:self.k]\n",
    "    \n",
    "    def predict(self,query,trainX,trainY):\n",
    "        ed = self.euclidian_distance(query,trainX)\n",
    "        nn = self.nearest_neighbours(ed)\n",
    "        labels_nn = list(trainY[nn])\n",
    "        return max(labels_nn, key = labels_nn.count) \n",
    "    \n",
    "classifier = K_Means(5)\n",
    "\n",
    "predictions = [classifier.predict(x,trainX,trainY) for x in testX]\n",
    "\n",
    "predictions\n",
    "testY\n",
    "\n",
    "cm = confusion_matrix(testY, predictions)\n",
    "\n",
    "print(accuracy_score(testY, predictions))"
   ]
  }
 ],
 "metadata": {
  "kernelspec": {
   "display_name": "Python 3",
   "language": "python",
   "name": "python3"
  },
  "language_info": {
   "codemirror_mode": {
    "name": "ipython",
    "version": 3
   },
   "file_extension": ".py",
   "mimetype": "text/x-python",
   "name": "python",
   "nbconvert_exporter": "python",
   "pygments_lexer": "ipython3",
   "version": "3.10.4"
  }
 },
 "nbformat": 4,
 "nbformat_minor": 4
}
