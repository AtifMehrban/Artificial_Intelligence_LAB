{
 "cells": [
  {
   "cell_type": "code",
   "execution_count": 23,
   "metadata": {},
   "outputs": [],
   "source": [
    "class Node:\n",
    "    def __init__(self,data=None):\n",
    "        self.val=data\n",
    "        self.next=None\n",
    "        \n",
    "        \n",
    "class LinkedList:\n",
    "    def __init__(self):\n",
    "        self.head = None"
   ]
  },
  {
   "cell_type": "code",
   "execution_count": 24,
   "metadata": {},
   "outputs": [],
   "source": [
    "def __str__(self):\n",
    "    ret_str = '['\n",
    "    temp = self.head\n",
    "    while temp is not None:\n",
    "        ret_str += str(temp.val) + ','\n",
    "        temp=temp.next\n",
    "        \n",
    "    ret_str = ret_str.rstrip(',')\n",
    "    ret_str += ']'\n",
    "    return ret_str\n",
    "\n",
    "LinkedList.__str__=__str__"
   ]
  },
  {
   "cell_type": "code",
   "execution_count": 25,
   "metadata": {},
   "outputs": [],
   "source": [
    "def __push__(self,val):\n",
    "    new_node = Node(val)\n",
    "    if self.head is None:\n",
    "        self.head = new_node\n",
    "        return\n",
    "    last=self.head\n",
    "    while last.next is not None:\n",
    "        last = last.next\n",
    "        \n",
    "    last.next= new_node\n",
    "    return\n",
    "\n",
    "LinkedList.__push__ = __push__"
   ]
  },
  {
   "cell_type": "code",
   "execution_count": 39,
   "metadata": {},
   "outputs": [],
   "source": [
    "L1 = LinkedList()\n",
    "L1.__push__(1)\n",
    "L1.__push__(2)\n",
    "L1.__push__(3)\n",
    "L1.__push__(4)\n",
    "L1.__push__(6)"
   ]
  },
  {
   "cell_type": "code",
   "execution_count": 40,
   "metadata": {},
   "outputs": [
    {
     "data": {
      "text/plain": [
       "'[1,2,3,4,6]'"
      ]
     },
     "execution_count": 40,
     "metadata": {},
     "output_type": "execute_result"
    }
   ],
   "source": [
    "__str__(L1)"
   ]
  },
  {
   "cell_type": "code",
   "execution_count": 41,
   "metadata": {},
   "outputs": [],
   "source": [
    "def __pop__(self):\n",
    "    if self.head is None:\n",
    "        raise Exception(\"cannot pop. no value\")\n",
    "    if self.head.next is None:\n",
    "        print('case 1')\n",
    "        val = self.head.val\n",
    "        self.head= None\n",
    "        return val\n",
    "    print('case 2')\n",
    "    temp = self.head\n",
    "    while temp.next is not None:\n",
    "        prev = temp\n",
    "        temp = temp.next\n",
    "    \n",
    "    val = temp.val\n",
    "    prev.next = None\n",
    "    return val\n",
    "LinkedList.__pop__=__pop__"
   ]
  },
  {
   "cell_type": "code",
   "execution_count": 42,
   "metadata": {},
   "outputs": [
    {
     "name": "stdout",
     "output_type": "stream",
     "text": [
      "case 2\n",
      "case 2\n"
     ]
    },
    {
     "data": {
      "text/plain": [
       "4"
      ]
     },
     "execution_count": 42,
     "metadata": {},
     "output_type": "execute_result"
    }
   ],
   "source": [
    "L1.__pop__()\n",
    "L1.__pop__()"
   ]
  },
  {
   "cell_type": "code",
   "execution_count": 43,
   "metadata": {},
   "outputs": [
    {
     "data": {
      "text/plain": [
       "'[1,2,3]'"
      ]
     },
     "execution_count": 43,
     "metadata": {},
     "output_type": "execute_result"
    }
   ],
   "source": [
    "__str__(L1)"
   ]
  },
  {
   "cell_type": "code",
   "execution_count": null,
   "metadata": {},
   "outputs": [],
   "source": [
    "def insert(self, index, val):\n",
    "    new_node = Node(val)\n",
    "    \n",
    "    if index == 0:\n",
    "        print(\"caase 1\")\n",
    "        new_node.next = self.head\n",
    "        self.head = new_node\n",
    "        return\n",
    "    print(\"case 2\")\n",
    "    temp = self.head\n",
    "    \n",
    "    counter = 0\n",
    "    while temp is not None and counter < index:\n",
    "         prev=temp\n",
    "            temp=temp.next\n",
    "            counter +=1\n",
    "            \n",
    "            prev.next = new_node\n",
    "            new_node.next = temp\n",
    "              return \n",
    "LinkedList.insert = insert"
   ]
  },
  {
   "cell_type": "code",
   "execution_count": null,
   "metadata": {},
   "outputs": [],
   "source": [
    "L1.insert(21,1)"
   ]
  },
  {
   "cell_type": "code",
   "execution_count": null,
   "metadata": {},
   "outputs": [],
   "source": [
    "def remove (self, index):\n",
    "    if index == 0:\n",
    "        if self.head.next is None:\n",
    "            self.head =None\n",
    "            else:\n",
    "                self.head=self.head.next\n",
    "        if self.head.next is not None:\n",
    "            \n",
    "        "
   ]
  }
 ],
 "metadata": {
  "kernelspec": {
   "display_name": "Python 3",
   "language": "python",
   "name": "python3"
  },
  "language_info": {
   "codemirror_mode": {
    "name": "ipython",
    "version": 3
   },
   "file_extension": ".py",
   "mimetype": "text/x-python",
   "name": "python",
   "nbconvert_exporter": "python",
   "pygments_lexer": "ipython3",
   "version": "3.8.3"
  }
 },
 "nbformat": 4,
 "nbformat_minor": 4
}
