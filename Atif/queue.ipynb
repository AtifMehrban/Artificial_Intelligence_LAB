{
 "cells": [
  {
   "cell_type": "code",
   "execution_count": 1,
   "metadata": {},
   "outputs": [],
   "source": [
    "class Queue:\n",
    "    def __init__(self):\n",
    "        self.size = 5\n",
    "        self.q =list(range(self.size))\n",
    "        self.i = 0\n",
    "        self.o = 0\n",
    "        \n",
    "        self.is_empty = True\n",
    "        self.is_full = False\n",
    "        "
   ]
  },
  {
   "cell_type": "code",
   "execution_count": 2,
   "metadata": {},
   "outputs": [],
   "source": [
    "def inc(self,index):\n",
    "    if index +1 == self.size:\n",
    "        return 0\n",
    "    else:\n",
    "        return index +1\n",
    "Queue.inc =inc"
   ]
  },
  {
   "cell_type": "code",
   "execution_count": 6,
   "metadata": {},
   "outputs": [],
   "source": [
    "def enqueue(self, val):\n",
    "    if self.is_full:\n",
    "        raise INdexerror(\"full\")\n",
    "        \n",
    "    self.q[self.i]  = val\n",
    "    self.i =self.inc(self.i)\n",
    "    \n",
    "    if self.i == self.o:\n",
    "        self.is_full=True\n",
    "        \n",
    "    self.is_empty =False\n",
    "Queue.enqueue =enqueue"
   ]
  },
  {
   "cell_type": "code",
   "execution_count": 10,
   "metadata": {},
   "outputs": [],
   "source": [
    "def __str__(self):\n",
    "    return str(self.q) + \", in \" + str(self.i) + \", out \" + str(self.o)\n",
    "Queue.__str__= __str__"
   ]
  },
  {
   "cell_type": "code",
   "execution_count": 11,
   "metadata": {},
   "outputs": [],
   "source": [
    "def dequeue(self):\n",
    "    if self.si_empty:\n",
    "        raise indexerror(\"empty\")\n",
    "        \n",
    "    ret = self.q[self.o]\n",
    "    self.o = self.inc(self.o)\n",
    "    \n",
    "    if self.i == self.o:\n",
    "        self.is_empty = True\n",
    "    \n",
    "    if self.i == self.o:\n",
    "        self.is_full= False\n",
    "Queue.dequeue =dequeue    "
   ]
  },
  {
   "cell_type": "code",
   "execution_count": 13,
   "metadata": {},
   "outputs": [
    {
     "data": {
      "text/plain": [
       "'[1, 2, 3, 5, 4], in 4, out 0'"
      ]
     },
     "execution_count": 13,
     "metadata": {},
     "output_type": "execute_result"
    }
   ],
   "source": [
    "q1=Queue()\n",
    "q1.enqueue(1)\n",
    "q1.enqueue(2)\n",
    "q1.enqueue(3)\n",
    "q1.enqueue(5)\n",
    "q1.\n",
    "__str__(q1)"
   ]
  },
  {
   "cell_type": "code",
   "execution_count": null,
   "metadata": {},
   "outputs": [],
   "source": []
  },
  {
   "cell_type": "code",
   "execution_count": null,
   "metadata": {},
   "outputs": [],
   "source": []
  }
 ],
 "metadata": {
  "kernelspec": {
   "display_name": "Python 3",
   "language": "python",
   "name": "python3"
  },
  "language_info": {
   "codemirror_mode": {
    "name": "ipython",
    "version": 3
   },
   "file_extension": ".py",
   "mimetype": "text/x-python",
   "name": "python",
   "nbconvert_exporter": "python",
   "pygments_lexer": "ipython3",
   "version": "3.8.3"
  }
 },
 "nbformat": 4,
 "nbformat_minor": 4
}
