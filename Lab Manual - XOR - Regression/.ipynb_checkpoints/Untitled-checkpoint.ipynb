{
 "cells": [
  {
   "cell_type": "code",
   "execution_count": 6,
   "id": "b2cac1f8-5506-490e-995f-d5c7b676206e",
   "metadata": {},
   "outputs": [],
   "source": [
    "import pandas as pd\n",
    "import numpy as np"
   ]
  },
  {
   "cell_type": "code",
   "execution_count": 2,
   "id": "9add3186-31b6-4cab-ab18-61e0b03a912e",
   "metadata": {},
   "outputs": [],
   "source": [
    "![A perceptron looks like this.](./perceptron_node.png \"Perceptron\")"
   ]
  },
  {
   "cell_type": "code",
   "execution_count": 3,
   "id": "f0945fb4-9147-4f30-91a7-44f70526b725",
   "metadata": {},
   "outputs": [],
   "source": []
  },
  {
   "cell_type": "code",
   "execution_count": null,
   "id": "3877fd8b-5caa-4fd3-8438-010995e89f6e",
   "metadata": {},
   "outputs": [],
   "source": []
  }
 ],
 "metadata": {
  "kernelspec": {
   "display_name": "Python 3 (ipykernel)",
   "language": "python",
   "name": "python3"
  },
  "language_info": {
   "codemirror_mode": {
    "name": "ipython",
    "version": 3
   },
   "file_extension": ".py",
   "mimetype": "text/x-python",
   "name": "python",
   "nbconvert_exporter": "python",
   "pygments_lexer": "ipython3",
   "version": "3.9.7"
  }
 },
 "nbformat": 4,
 "nbformat_minor": 5
}
