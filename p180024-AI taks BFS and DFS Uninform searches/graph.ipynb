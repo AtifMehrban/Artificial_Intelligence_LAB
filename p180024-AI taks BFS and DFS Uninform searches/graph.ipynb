{
 "cells": [
  {
   "cell_type": "code",
   "execution_count": 1,
   "id": "daf0c4f7",
   "metadata": {},
   "outputs": [],
   "source": [
    "class Graph: \n",
    "    def __init__(self): \n",
    "        self.graph = {} \n",
    "        \n",
    "    def add_node(self, node): \n",
    "        if node in self.graph: \n",
    "            raise ValueError(\"Node already in graph\")\n",
    "            \n",
    "        self.graph[node] = [] \n",
    "\n",
    "    def add_edge(self, src, dest): \n",
    "        \n",
    "        if src not in self.graph: \n",
    "            raise ValueError(\"Source node not in graph\")\n",
    "        if dest not in self.graph: \n",
    "            raise ValueError(\"Destination node not in graph\")\n",
    "            \n",
    "        nexts = self.graph[src]\n",
    "        if dest in nexts: \n",
    "            return \n",
    "        \n",
    "        nexts.append(dest)\n",
    "        \n",
    "        \n",
    "    #@@@@@@@@@@@@@@@@@@@@@@@@@@@@@@@@@@@@@@@@@@@@@@@@#\n",
    "        \n",
    "g = Graph() \n",
    "\n",
    "nodes = ['a', 'b', 'c', 'd', 'e', 'f'] \n",
    "\n",
    "for n in nodes: \n",
    "    g.add_node(n) \n",
    "\n",
    "\n",
    "\n",
    "\n",
    "edges = [\n",
    "    ('a', 'b'),\n",
    "    ('a', 'c'),\n",
    "    ('b', 'c'),\n",
    "    ('b', 'd'),\n",
    "    ('c', 'd'),\n",
    "    ('d', 'c'),\n",
    "    ('e', 'f'),\n",
    "    ('f', 'c')\n",
    "]\n",
    "\n",
    "for e in edges: \n",
    "    g.add_edge(e[0], e[1])\n",
    "        "
   ]
  },
  {
   "cell_type": "code",
   "execution_count": null,
   "id": "71b0a2ad",
   "metadata": {},
   "outputs": [],
   "source": []
  }
 ],
 "metadata": {
  "kernelspec": {
   "display_name": "Python 3",
   "language": "python",
   "name": "python3"
  },
  "language_info": {
   "codemirror_mode": {
    "name": "ipython",
    "version": 3
   },
   "file_extension": ".py",
   "mimetype": "text/x-python",
   "name": "python",
   "nbconvert_exporter": "python",
   "pygments_lexer": "ipython3",
   "version": "3.10.4"
  }
 },
 "nbformat": 4,
 "nbformat_minor": 5
}
